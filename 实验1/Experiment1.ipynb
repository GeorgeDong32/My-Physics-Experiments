{
 "cells": [
  {
   "cell_type": "markdown",
   "metadata": {},
   "source": [
    "# 实验1 玻尔振动的物理研究\n",
    "> Copyright(c) 2022 GeorgeDong32. All Rights Reserved."
   ]
  },
  {
   "cell_type": "code",
   "execution_count": 66,
   "metadata": {},
   "outputs": [],
   "source": [
    "from cProfile import label\n",
    "import scipy.constants as cst\n",
    "import pandas as pd\n",
    "import numpy as np\n",
    "import matplotlib.pyplot as plt\n",
    "from scipy.optimize import curve_fit\n",
    "# plt防止中文乱码\n",
    "plt.rcParams['font.sans-serif']=['SimHei']\n",
    "plt.rcParams['axes.unicode_minus'] = False"
   ]
  },
  {
   "cell_type": "markdown",
   "metadata": {},
   "source": [
    "### 测量摆轮摆幅$\\theta$与固有周期$T_0$的关系\n",
    "数据见theta-T0.csv"
   ]
  },
  {
   "cell_type": "markdown",
   "metadata": {},
   "source": [
    "### 阻尼系数$\\beta$的计算"
   ]
  },
  {
   "cell_type": "markdown",
   "metadata": {},
   "source": [
    "#### 阻尼挡位1"
   ]
  },
  {
   "cell_type": "code",
   "execution_count": 67,
   "metadata": {},
   "outputs": [
    {
     "name": "stdout",
     "output_type": "stream",
     "text": [
      "0    0.502092\n",
      "1    0.507595\n",
      "2    0.517943\n",
      "3    0.510826\n",
      "dtype: float64\n",
      "ln平均值= 0.5096138155706564\n",
      "beta1= 0.08146000888277756\n"
     ]
    }
   ],
   "source": [
    "T1 = 1.5640\n",
    "data1 = pd.read_csv(\"cbeta1.csv\")\n",
    "th11 = data1.iloc[:,0]\n",
    "th12 = data1.iloc[:,1]\n",
    "ln1 = np.log(th11 / th12)\n",
    "avaln1 = np.mean(ln1)\n",
    "beta1 = avaln1 / (th11.count() * T1)\n",
    "print(ln1)\n",
    "print(\"ln平均值=\",avaln1)\n",
    "print(\"beta1=\", beta1)"
   ]
  },
  {
   "cell_type": "markdown",
   "metadata": {},
   "source": [
    "#### 阻尼挡位2"
   ]
  },
  {
   "cell_type": "code",
   "execution_count": 68,
   "metadata": {},
   "outputs": [
    {
     "name": "stdout",
     "output_type": "stream",
     "text": [
      "0    0.478999\n",
      "1    0.473288\n",
      "2    0.475424\n",
      "3    0.471986\n",
      "4    0.461346\n",
      "dtype: float64\n",
      "ln平均值= 0.47220839005373233\n",
      "beta2= 0.06018076722790191\n"
     ]
    }
   ],
   "source": [
    "T2 = 1.5693\n",
    "data2 = pd.read_csv(\"cbeta2.csv\")\n",
    "th21 = data2.iloc[:,0]\n",
    "th22 = data2.iloc[:,1]\n",
    "ln2 = np.log(th21 / th22)\n",
    "avaln2 = np.mean(ln2)\n",
    "beta2 = avaln2 / (th21.count() * T2)\n",
    "print(ln2)\n",
    "print(\"ln平均值=\",avaln2)\n",
    "print(\"beta2=\", beta2)"
   ]
  },
  {
   "cell_type": "markdown",
   "metadata": {},
   "source": [
    "#### 阻尼挡位3"
   ]
  },
  {
   "cell_type": "code",
   "execution_count": 69,
   "metadata": {},
   "outputs": [
    {
     "name": "stdout",
     "output_type": "stream",
     "text": [
      "0    0.515813\n",
      "1    0.510826\n",
      "2    0.501693\n",
      "3    0.490623\n",
      "4    0.499652\n",
      "dtype: float64\n",
      "ln平均值= 0.5037214337724151\n",
      "beta3= 0.06451763480914698\n"
     ]
    }
   ],
   "source": [
    "T3 = 1.5615\n",
    "data3 = pd.read_csv(\"cbeta3.csv\")\n",
    "th31 = data3.iloc[:,0]\n",
    "th32 = data3.iloc[:,1]\n",
    "ln3 = np.log(th31 / th32)\n",
    "avaln3 = np.mean(ln3)\n",
    "beta3 = avaln3 / (th31.count() * T3)\n",
    "print(ln3)\n",
    "print(\"ln平均值=\",avaln3)\n",
    "print(\"beta3=\", beta3)"
   ]
  },
  {
   "cell_type": "markdown",
   "metadata": {},
   "source": [
    "### 幅频/相频特性测量"
   ]
  },
  {
   "cell_type": "code",
   "execution_count": 70,
   "metadata": {},
   "outputs": [
    {
     "name": "stdout",
     "output_type": "stream",
     "text": [
      "0     1.047100\n",
      "1     1.008146\n",
      "2     1.001992\n",
      "3     0.995906\n",
      "4     0.990844\n",
      "5     0.986222\n",
      "6     0.978567\n",
      "7     0.976196\n",
      "8     0.971099\n",
      "9     0.966436\n",
      "10    0.961113\n",
      "11    0.955828\n",
      "12    0.950920\n",
      "dtype: float64\n",
      "0     243.562702\n",
      "1     276.797195\n",
      "2     243.591341\n",
      "3     226.172074\n",
      "4     150.745148\n",
      "5      98.391526\n",
      "6      55.391354\n",
      "7      41.815218\n",
      "8      28.487868\n",
      "9      18.975509\n",
      "10     13.160582\n",
      "11      9.293540\n",
      "12      6.411267\n",
      "dtype: float64\n"
     ]
    }
   ],
   "source": [
    "def wr(w0,beta):\n",
    "    return np.sqrt(w0*w0 - 2*beta*beta)\n",
    "\n",
    "def thetar(m,w_r,beta):\n",
    "    return m / (2*beta*w_r)\n",
    "\n",
    "E3data = pd.read_csv(\"3data.csv\")\n",
    "m = E3data.iloc[:,0]\n",
    "TL = E3data.iloc[:,1]\n",
    "theta = E3data.iloc[:,3]\n",
    "T0 = E3data.iloc[:,4]\n",
    "omega = 2*np.pi / TL\n",
    "omega0 = 2*np.pi / T0;\n",
    "omegar = wr(omega0,beta3)\n",
    "theta_r = thetar(m,omegar,beta3)\n",
    "d1 = omega / omegar\n",
    "d2 = (theta / theta_r)**2\n",
    "print(d1)\n",
    "print(d2)"
   ]
  }
 ],
 "metadata": {
  "kernelspec": {
   "display_name": "Python 3.9.10 64-bit",
   "language": "python",
   "name": "python3"
  },
  "language_info": {
   "codemirror_mode": {
    "name": "ipython",
    "version": 3
   },
   "file_extension": ".py",
   "mimetype": "text/x-python",
   "name": "python",
   "nbconvert_exporter": "python",
   "pygments_lexer": "ipython3",
   "version": "3.9.10"
  },
  "orig_nbformat": 4,
  "vscode": {
   "interpreter": {
    "hash": "aeab2a77c2df088fcaec8359c4869ea7236b9d1841edb46522577357b3551a12"
   }
  }
 },
 "nbformat": 4,
 "nbformat_minor": 2
}
