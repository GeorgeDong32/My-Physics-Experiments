{
 "cells": [
  {
   "cell_type": "markdown",
   "metadata": {},
   "source": [
    "# 实验1 玻尔振动的物理研究\n",
    "> Copyright(c) 2022 GeorgeDong32. All Rights Reserved."
   ]
  },
  {
   "cell_type": "code",
   "execution_count": null,
   "metadata": {},
   "outputs": [],
   "source": [
    "from cProfile import label\n",
    "import scipy.constants as cst\n",
    "import pandas as pd\n",
    "import numpy as np\n",
    "import matplotlib.pyplot as plt\n",
    "from scipy.optimize import curve_fit\n",
    "# plt防止中文乱码\n",
    "plt.rcParams['font.sans-serif']=['SimHei']\n",
    "plt.rcParams['axes.unicode_minus'] = False"
   ]
  },
  {
   "cell_type": "markdown",
   "metadata": {},
   "source": [
    "### 测量摆轮摆幅$\\theta$与固有周期$T_0$的关系\n",
    "数据见theta-T0.csv"
   ]
  },
  {
   "cell_type": "markdown",
   "metadata": {},
   "source": [
    "### 阻尼系数$\\beta$的计算"
   ]
  },
  {
   "cell_type": "markdown",
   "metadata": {},
   "source": [
    "#### 阻尼挡位1"
   ]
  },
  {
   "cell_type": "code",
   "execution_count": null,
   "metadata": {},
   "outputs": [],
   "source": [
    "T1 = 1.5640\n",
    "data1 = pd.read_csv(\"cbeta1.csv\")\n",
    "th11 = data1.iloc[:,0]\n",
    "th12 = data1.iloc[:,1]\n",
    "ln1 = np.log(th11 / th12)\n",
    "avaln1 = np.mean(ln1)\n",
    "beta1 = avaln1 / (th11.count() * T1)\n",
    "print(ln1)\n",
    "print(\"ln平均值=\",avaln1)\n",
    "print(\"beta1=\", beta1)"
   ]
  },
  {
   "cell_type": "markdown",
   "metadata": {},
   "source": [
    "#### 阻尼挡位2"
   ]
  },
  {
   "cell_type": "code",
   "execution_count": null,
   "metadata": {},
   "outputs": [],
   "source": [
    "T2 = 1.5693\n",
    "data2 = pd.read_csv(\"cbeta2.csv\")\n",
    "th21 = data2.iloc[:,0]\n",
    "th22 = data2.iloc[:,1]\n",
    "ln2 = np.log(th21 / th22)\n",
    "avaln2 = np.mean(ln2)\n",
    "beta2 = avaln2 / (th21.count() * T2)\n",
    "print(ln2)\n",
    "print(\"ln平均值=\",avaln2)\n",
    "print(\"beta2=\", beta2)"
   ]
  },
  {
   "cell_type": "markdown",
   "metadata": {},
   "source": [
    "#### 阻尼挡位3"
   ]
  },
  {
   "cell_type": "code",
   "execution_count": null,
   "metadata": {},
   "outputs": [],
   "source": [
    "T3 = 1.5615\n",
    "data3 = pd.read_csv(\"cbeta3.csv\")\n",
    "th31 = data3.iloc[:,0]\n",
    "th32 = data3.iloc[:,1]\n",
    "ln3 = np.log(th31 / th32)\n",
    "avaln3 = np.mean(ln3)\n",
    "beta3 = avaln3 / (th31.count() * T3)\n",
    "print(ln3)\n",
    "print(\"ln平均值=\",avaln3)\n",
    "print(\"beta3=\", beta3)"
   ]
  },
  {
   "cell_type": "markdown",
   "metadata": {},
   "source": [
    "### 幅频/相频特性测量"
   ]
  },
  {
   "cell_type": "code",
   "execution_count": null,
   "metadata": {},
   "outputs": [],
   "source": [
    "def wr(w0,beta):\n",
    "    return np.sqrt(w0*w0 - 2*beta*beta)\n",
    "\n",
    "def thetar(m,w_r,beta):\n",
    "    return m / (2*beta*w_r)\n",
    "\n",
    "def phi_c(beta,T,T0):\n",
    "    return np.arctan((beta*T0*T0*T)/(np.pi*((T*T) - (T0*T0))))\n",
    "\n",
    "def thetae(w,w0,beta):\n",
    "    return beta**2 / ((w-w0)**2 + beta**2)\n",
    "\n",
    "E3data = pd.read_csv(\"3data.csv\")\n",
    "m = E3data.iloc[:,0]\n",
    "TL = E3data.iloc[:,1]\n",
    "theta = E3data.iloc[:,3]\n",
    "T0 = E3data.iloc[:,4]\n",
    "phi = E3data.iloc[:,5]\n",
    "omega = 2*np.pi / TL\n",
    "omega0 = 2*np.pi / T0\n",
    "omegar = wr(omega0,beta3)\n",
    "theta_r = thetar(m,omegar,beta3) * (180/np.pi)\n",
    "d1 = omega / omegar\n",
    "d2 = (theta / theta_r)**2\n",
    "d3 = phi_c(beta3,TL,T0)\n",
    "print(d1)\n",
    "print(d2*10)\n",
    "plt.figure(dpi=200)\n",
    "plt.plot(omega,d2*10)\n",
    "plt.savefig(\".\\幅频特性曲线.png\")\n",
    "plt.figure(dpi=200)\n",
    "plt.plot(omega,thetae(omega,omega0,beta3))\n",
    "plt.savefig(\".\\理想幅频特性曲线.png\")\n",
    "plt.figure(dpi=200)\n",
    "plt.plot(d1,thetae(omega,omega0,beta3))\n",
    "plt.savefig(\".\\对照理想幅频特性曲线.png\")\n",
    "plt.figure(dpi=200)\n",
    "plt.plot(d1,d3)\n",
    "plt.savefig(\".\\相频特性曲线.png\")"
   ]
  },
  {
   "cell_type": "code",
   "execution_count": null,
   "metadata": {},
   "outputs": [],
   "source": [
    "print(d3/np.pi*180)"
   ]
  }
 ],
 "metadata": {
  "kernelspec": {
   "display_name": "Python 3.9.10 64-bit",
   "language": "python",
   "name": "python3"
  },
  "language_info": {
   "codemirror_mode": {
    "name": "ipython",
    "version": 3
   },
   "file_extension": ".py",
   "mimetype": "text/x-python",
   "name": "python",
   "nbconvert_exporter": "python",
   "pygments_lexer": "ipython3",
   "version": "3.9.13"
  },
  "orig_nbformat": 4,
  "vscode": {
   "interpreter": {
    "hash": "aeab2a77c2df088fcaec8359c4869ea7236b9d1841edb46522577357b3551a12"
   }
  }
 },
 "nbformat": 4,
 "nbformat_minor": 2
}
