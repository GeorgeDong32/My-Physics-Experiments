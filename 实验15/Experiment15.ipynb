{
 "cells": [
  {
   "attachments": {},
   "cell_type": "markdown",
   "metadata": {},
   "source": [
    "# 实验15 各向异性磁阻传感器与磁场测量实验"
   ]
  },
  {
   "cell_type": "code",
   "execution_count": null,
   "metadata": {},
   "outputs": [],
   "source": [
    "# 实验15 各向异性磁阻传感器与磁场测量实验\n",
    "# Copyright(c) 2022 GeorgeDong32. All Rights Reserved.\n",
    "\n",
    "from cProfile import label\n",
    "import scipy.constants as cst \n",
    "import pandas as pd\n",
    "import numpy as np\n",
    "import matplotlib.pyplot as plt\n",
    "from scipy.optimize import curve_fit \n",
    "# plt防止中文乱码\n",
    "plt.rcParams['font.sans-serif']=['SimHei']\n",
    "plt.rcParams['axes.unicode_minus'] = False"
   ]
  },
  {
   "attachments": {},
   "cell_type": "markdown",
   "metadata": {},
   "source": [
    "## AMR磁电转换特性测量"
   ]
  },
  {
   "cell_type": "code",
   "execution_count": null,
   "metadata": {},
   "outputs": [],
   "source": [
    "data1 = pd.read_csv('AMR磁电转换特性.csv')\n",
    "B1 = data1['B']\n",
    "U1 = data1['U']\n",
    "plt.figure(dpi=200)\n",
    "plt.plot(B1,U1,label='实验数据')\n",
    "plt.plot(B1,U1,'o',label='实验数据点')\n",
    "plt.xlabel('磁感应强度(B) / 高斯')\n",
    "plt.ylabel('输出电压(U) / V')\n",
    "plt.title('AMR磁电转换特性曲线')\n",
    "plt.legend()"
   ]
  },
  {
   "attachments": {},
   "cell_type": "markdown",
   "metadata": {},
   "source": [
    "## AMR方向特性测量"
   ]
  },
  {
   "cell_type": "code",
   "execution_count": null,
   "metadata": {},
   "outputs": [],
   "source": [
    "data2 = pd.read_csv('AMR方向特性.csv')\n",
    "alpha = data2['alpha']\n",
    "U2 = data2['U']\n",
    "plt.figure(dpi=200)\n",
    "plt.plot(alpha,U2,label='实验数据')\n",
    "plt.plot(alpha, np.cos(alpha*np.pi/180),label='余弦曲线')\n",
    "plt.xlabel('夹角$\\\\alpha$ / 度')\n",
    "plt.ylabel('输出电压(U) / V')\n",
    "plt.title('AMR方向特性曲线')\n",
    "plt.legend()"
   ]
  },
  {
   "attachments": {},
   "cell_type": "markdown",
   "metadata": {},
   "source": [
    "## 轴向磁场分布"
   ]
  },
  {
   "cell_type": "code",
   "execution_count": null,
   "metadata": {},
   "outputs": [],
   "source": [
    "data3 = pd.read_csv('轴向磁场分布.csv')\n",
    "X = data3['X']\n",
    "Bs = data3['Bs']\n",
    "B = data3['B']\n",
    "\n",
    "plt.figure(dpi=200)\n",
    "plt.plot(X,Bs,label='B(x)/$B_0$计算值')\n",
    "plt.plot(X,B,label='B(x)/$B_0$实验值')\n",
    "plt.xlabel('X / R')\n",
    "plt.ylabel('B(x)/$B_0$')\n",
    "plt.title('轴向磁场分布')\n",
    "plt.legend()"
   ]
  }
 ],
 "metadata": {
  "kernelspec": {
   "display_name": "Python 3",
   "language": "python",
   "name": "python3"
  },
  "language_info": {
   "codemirror_mode": {
    "name": "ipython",
    "version": 3
   },
   "file_extension": ".py",
   "mimetype": "text/x-python",
   "name": "python",
   "nbconvert_exporter": "python",
   "pygments_lexer": "ipython3",
   "version": "3.10.8"
  },
  "orig_nbformat": 4
 },
 "nbformat": 4,
 "nbformat_minor": 2
}
