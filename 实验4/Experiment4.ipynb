{
 "cells": [
  {
   "cell_type": "markdown",
   "metadata": {},
   "source": [
    "# 实验4 比热容比测定实验"
   ]
  },
  {
   "cell_type": "markdown",
   "metadata": {},
   "source": [
    "## 液体比热容的测量"
   ]
  },
  {
   "cell_type": "code",
   "execution_count": null,
   "metadata": {},
   "outputs": [],
   "source": [
    "# 大学物理实验4 比热比测定实验-液体比热容测量数据处理\n",
    "# Copyright(c) 2022 GeorgeDong32. All Rights Reserved.\n",
    "\n",
    "from cProfile import label\n",
    "import scipy.constants as cst \n",
    "import pandas as pd\n",
    "import numpy as np\n",
    "import matplotlib.pyplot as plt\n",
    "from scipy.optimize import curve_fit \n",
    "# plt防止中文乱码\n",
    "plt.rcParams['font.sans-serif']=['SimHei']\n",
    "plt.rcParams['axes.unicode_minus'] = False\n",
    "\n",
    "# 待拟合函数定义\n",
    "def fit_fun1(B, k1, b1):\n",
    "    return k1 * B + b1\n",
    "\n",
    "def fit_fun2(B, k2, b2):\n",
    "    return k2 * B + b2\n",
    "\n",
    "#数据导入\n",
    "data_w = pd.read_csv(\"LiquidSHC_PWater.csv\")\n",
    "t_w = data_w.iloc[:,0]\n",
    "ln_w = data_w.iloc[:,1]\n",
    "\n",
    "data_b = pd.read_csv(\"LiquidSHC_Brine.csv\")\n",
    "t_b = data_b.iloc[:,0]\n",
    "ln_b = data_b.iloc[:,1]\n",
    "\n",
    "#数据拟合\n",
    "popt1,pcov1=curve_fit(fit_fun1,t_w,ln_w)\n",
    "ln_w_fit = fit_fun1(t_w,popt1[0],popt1[1])\n",
    "\n",
    "popt2,pcov2=curve_fit(fit_fun2,t_b,ln_b)\n",
    "ln_b_fit = fit_fun1(t_b,popt2[0],popt2[1])\n",
    "\n",
    "# 数据计算\n",
    "S_w = popt1[0]\n",
    "S_b = popt2[0]\n",
    "m_container = 130.23\n",
    "m_w = 147.79 - m_container\n",
    "m_b = 149.06 - m_container\n",
    "c_w = 4.18\n",
    "c_container = 0.389\n",
    "c_b = ((S_w / S_b) * (m_w*c_w + m_container*c_container) - (m_container*c_container)) / m_b\n",
    "print(c_b)"
   ]
  },
  {
   "cell_type": "code",
   "execution_count": null,
   "metadata": {},
   "outputs": [],
   "source": [
    "#绘制图形\n",
    "## 数据绘图区\n",
    "plt.figure()\n",
    "plt.axis([5,20,1.35,2.75])\n",
    "plt.scatter(t_w,ln_w,marker='o',label=\"纯净水原数据\")\n",
    "plt.plot(t_w,ln_w_fit,color='red',label=\"纯净水拟合结果\")\n",
    "plt.scatter(t_b,ln_b,marker='*',label=\"盐水原数据\")\n",
    "plt.plot(t_b,ln_b_fit,color='blue',label=\"盐水拟合结果\")\n",
    "plt.xlabel(\"$t(min)$\",fontsize=12)\n",
    "plt.ylabel(\"$T(^text {o}C)$\",fontsize=12)\n",
    "plt.annotate(\"$S' = %.4f$\\n$S'' = %.4f$\" %(S_w,S_b), xy=(6,1.6))\n",
    "plt.title(\"液体比热容测定结果拟合\",fontsize=18)\n",
    "plt.legend()\n",
    "plt.savefig(\"LiquidSHC.png\")"
   ]
  },
  {
   "cell_type": "code",
   "execution_count": null,
   "metadata": {},
   "outputs": [],
   "source": [
    "## 数据计算区\n",
    "plt.figure()\n",
    "plt.axis([0,100,0,100])\n",
    "plt.annotate(\"$S' = %.4f$\\n$S'' = %.4f$\\n盐水比热容为:$%.4fX 10^3 J/(kg·k)$\\n$ln1 = %.4f t + %.4f$\\n$ln2 = %.4f t + %.4f$\" %(S_w,S_b,abs(c_b),popt1[0],popt1[1],popt2[0],popt2[1]), xy=(10,40))\n",
    "plt.title(\"数据处理结果\")\n",
    "plt.show()"
   ]
  }
 ],
 "metadata": {
  "kernelspec": {
   "display_name": "Python 3.10.4 64-bit",
   "language": "python",
   "name": "python3"
  },
  "language_info": {
   "codemirror_mode": {
    "name": "ipython",
    "version": 3
   },
   "file_extension": ".py",
   "mimetype": "text/x-python",
   "name": "python",
   "nbconvert_exporter": "python",
   "pygments_lexer": "ipython3",
   "version": "3.10.4"
  },
  "orig_nbformat": 4,
  "vscode": {
   "interpreter": {
    "hash": "3ad933181bd8a04b432d3370b9dc3b0662ad032c4dfaa4e4f1596c548f763858"
   }
  }
 },
 "nbformat": 4,
 "nbformat_minor": 2
}
