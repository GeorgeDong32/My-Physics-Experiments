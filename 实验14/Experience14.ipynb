{
 "cells": [
  {
   "attachments": {},
   "cell_type": "markdown",
   "metadata": {},
   "source": [
    "# 实验十四 单缝衍射的相对光强分布"
   ]
  },
  {
   "cell_type": "code",
   "execution_count": null,
   "metadata": {},
   "outputs": [],
   "source": [
    "# 大学物理实验十四 单缝衍射的相对光强分布\n",
    "# Copyright(c) 2022 GeorgeDong32. All Rights Reserved.\n",
    "\n",
    "from cProfile import label\n",
    "import scipy.constants as cst \n",
    "import pandas as pd\n",
    "import numpy as np\n",
    "import matplotlib.pyplot as plt\n",
    "from scipy.optimize import curve_fit \n",
    "# plt防止中文乱码\n",
    "plt.rcParams['font.sans-serif']=['SimHei']\n",
    "plt.rcParams['axes.unicode_minus'] = False"
   ]
  },
  {
   "attachments": {},
   "cell_type": "markdown",
   "metadata": {},
   "source": [
    "## 1.测定单缝衍射的相对光强分布"
   ]
  },
  {
   "cell_type": "code",
   "execution_count": null,
   "metadata": {},
   "outputs": [],
   "source": [
    "data1 = pd.read_csv('data1.csv')\n",
    "X = data1['X']\n",
    "P1 = data1['P']\n",
    "\n",
    "plt.figure(dpi=200)\n",
    "plt.plot(X, P1,  label='实验数据')\n",
    "plt.xlabel('X/mm')\n",
    "plt.ylabel('光功率P/$\\mu$W')\n",
    "plt.title('单缝衍射的相对光强分布')\n",
    "plt.legend()"
   ]
  },
  {
   "attachments": {},
   "cell_type": "markdown",
   "metadata": {},
   "source": [
    "## 2.验证白光光强与距离的平方反比关系"
   ]
  },
  {
   "cell_type": "code",
   "execution_count": null,
   "metadata": {},
   "outputs": [],
   "source": [
    "data2 = pd.read_csv('data2.csv')\n",
    "Z = data2['Z']\n",
    "P2 = data2['P']\n",
    "\n",
    "plt.figure(dpi=200)\n",
    "plt.plot(Z, P2,  label='实验数据')\n",
    "plt.xlabel('Z/mm')\n",
    "plt.ylabel('光功率P/$\\mu$W')\n",
    "plt.title('白光光强分布曲线')\n",
    "plt.legend()\n",
    "\n",
    "plt.figure(dpi=200)\n",
    "plt.plot((1/(Z*Z)), P2)\n",
    "plt.xlabel('$\\\\frac{1}{Z^2}$ / $mm^{-2}$')\n",
    "plt.ylabel('光功率P/$\\mu$W')\n",
    "plt.title('白光光强分布曲线')"
   ]
  }
 ],
 "metadata": {
  "kernelspec": {
   "display_name": "Python 3",
   "language": "python",
   "name": "python3"
  },
  "language_info": {
   "codemirror_mode": {
    "name": "ipython",
    "version": 3
   },
   "file_extension": ".py",
   "mimetype": "text/x-python",
   "name": "python",
   "nbconvert_exporter": "python",
   "pygments_lexer": "ipython3",
   "version": "3.10.8"
  },
  "orig_nbformat": 4
 },
 "nbformat": 4,
 "nbformat_minor": 2
}
