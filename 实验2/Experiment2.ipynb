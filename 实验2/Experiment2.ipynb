{
 "cells": [
  {
   "cell_type": "markdown",
   "metadata": {},
   "source": [
    "# 实验2 电阻的温度特性\n",
    "> Copyright(c) 2022 GeorgeDong32. All Rights Reserved."
   ]
  },
  {
   "cell_type": "markdown",
   "metadata": {},
   "source": [
    "## 测量铜电阻、NTC、PTC的温度特性"
   ]
  },
  {
   "cell_type": "code",
   "execution_count": null,
   "metadata": {},
   "outputs": [],
   "source": [
    "from cProfile import label\n",
    "import scipy.constants as cst \n",
    "import pandas as pd\n",
    "import numpy as np\n",
    "import matplotlib.pyplot as plt\n",
    "from scipy.optimize import curve_fit\n",
    "# plt防止中文乱码\n",
    "plt.rcParams['font.sans-serif']=['SimHei']\n",
    "plt.rcParams['axes.unicode_minus'] = False"
   ]
  },
  {
   "cell_type": "code",
   "execution_count": null,
   "metadata": {},
   "outputs": [],
   "source": [
    "#拟合函数定义\n",
    "def RCu(t,a,R0):\n",
    "    return a*t*R0 + R0\n",
    "\n",
    "def lnRNTC(T,A,B):\n",
    "    return B/T + np.log(A)\n",
    "\n",
    "def lnRPTC(T,A,B):\n",
    "    return np.log(A) + B * T"
   ]
  },
  {
   "cell_type": "code",
   "execution_count": null,
   "metadata": {},
   "outputs": [],
   "source": [
    "#读取数据\n",
    "dCu = pd.read_csv(\"Cu.csv\")\n",
    "dNTC = pd.read_csv(\"NTC.csv\")\n",
    "dPTC = pd.read_csv(\"PTC.csv\")\n",
    "\n",
    "tCu = dCu.iloc[:,0]\n",
    "rCu = (dCu.iloc[:,1] + dCu.iloc[:,2]) / 2\n",
    "\n",
    "TNTC = dNTC.iloc[:,0] + 273\n",
    "rNTC = (dNTC.iloc[:,1] + dNTC.iloc[:,2]) / 2\n",
    "lnrNTC = np.log(rNTC)\n",
    "\n",
    "TPTC = (dPTC.iloc[:,0] + 244)\n",
    "rPTC = (dPTC.iloc[:,1] + dPTC.iloc[:,2]) / 2\n",
    "lnrPTC = np.log(rPTC)\n",
    "\n",
    "popt1,pcov1=curve_fit(RCu,tCu,rCu)\n",
    "rCu_fit = RCu(tCu,popt1[0],popt1[1])\n",
    "\n",
    "popt2,pcov2=curve_fit(lnRNTC,TNTC,lnrNTC)\n",
    "lnrNTC_fit = lnRNTC(TNTC,popt2[0],popt2[1])\n",
    "\n",
    "popt3,pcov3=curve_fit(lnRPTC,TPTC,lnrPTC)\n",
    "lnrPTC_fit = lnRPTC(TPTC,popt3[0],popt3[1])"
   ]
  },
  {
   "cell_type": "markdown",
   "metadata": {},
   "source": [
    "### 铜电阻图像"
   ]
  },
  {
   "cell_type": "code",
   "execution_count": null,
   "metadata": {},
   "outputs": [],
   "source": [
    "plt.figure(dpi=150)\n",
    "plt.scatter(tCu,rCu,label=\"铜电阻测量值\")\n",
    "plt.plot(tCu,rCu_fit,label=\"铜电阻拟合曲线\")\n",
    "plt.title(\"铜电阻温度特性曲线\")\n",
    "plt.xlabel(\"t/°C\")\n",
    "plt.ylabel(\"$R_{Cu}/\\Omega$\")\n",
    "plt.annotate(\"$R_{Cu}$ = %.2f(1 + %.6ft)\" %(popt1[1],popt1[0]), xy=(30,57))\n",
    "plt.legend()\n",
    "print(rCu)"
   ]
  },
  {
   "cell_type": "markdown",
   "metadata": {},
   "source": [
    "### NTC电阻图像"
   ]
  },
  {
   "cell_type": "code",
   "execution_count": null,
   "metadata": {},
   "outputs": [],
   "source": [
    "plt.figure(dpi=150)\n",
    "plt.scatter(TNTC,lnrNTC,label=\"NTC电阻测量值\")\n",
    "plt.plot(TNTC,lnrNTC_fit,label=\"NTC电阻拟合曲线\")\n",
    "plt.title(\"NTC电阻温度特性曲线\")\n",
    "plt.xlabel(\"T/K\")\n",
    "plt.ylabel(\"$lnR_{NTC}/ln \\Omega$\")\n",
    "plt.annotate(\"$lnR_{NTC}$ = %.3f/T + %.3f\" %(popt2[1],np.log(popt2[0])), xy=(303,6))\n",
    "plt.legend()\n",
    "print(popt2[0])\n",
    "print(rNTC)"
   ]
  },
  {
   "cell_type": "markdown",
   "metadata": {},
   "source": [
    "### PTC电阻图像"
   ]
  },
  {
   "cell_type": "code",
   "execution_count": null,
   "metadata": {},
   "outputs": [],
   "source": [
    "plt.figure(dpi=150)\n",
    "plt.scatter(TPTC+29,lnrPTC,label=\"PTC电阻测量值\")\n",
    "plt.plot(TPTC+29,lnrPTC_fit,label=\"PTC电阻拟合曲线\")\n",
    "plt.title(\"PTC电阻温度特性曲线\")\n",
    "plt.xlabel(\"T/K\")\n",
    "plt.ylabel(\"$lnR_{PTC}/ln\\Omega$\")\n",
    "plt.annotate(\"$lnR_{PTC}$ = ln(%.3f) + %.4fT\" %(popt3[0],popt3[1]), xy=(300,7.25))\n",
    "plt.legend()\n",
    "print(rPTC)"
   ]
  },
  {
   "cell_type": "markdown",
   "metadata": {},
   "source": [
    "### 铜电阻数据计算（逐差法）"
   ]
  },
  {
   "cell_type": "code",
   "execution_count": null,
   "metadata": {},
   "outputs": [],
   "source": [
    "i = 7\n",
    "sum = 0\n",
    "while (i > 0):\n",
    "    sum += rCu[i+7] - rCu[i]\n",
    "    i = i - 1\n",
    "aCu = sum / (7 * 35) \n",
    "print(aCu/55)\n",
    "print(TNTC)"
   ]
  },
  {
   "cell_type": "markdown",
   "metadata": {},
   "source": [
    "### 补充图像"
   ]
  },
  {
   "cell_type": "markdown",
   "metadata": {},
   "source": [
    "#### $R_{NTC} - T$"
   ]
  },
  {
   "cell_type": "code",
   "execution_count": null,
   "metadata": {},
   "outputs": [],
   "source": [
    "plt.figure(dpi=150)\n",
    "plt.scatter(TNTC,rNTC,label=\"NTC电阻测量值\")\n",
    "plt.plot(TNTC,np.exp(lnrNTC_fit),label=\"NTC电阻拟合曲线\")\n",
    "plt.title(\"NTC电阻温度特性曲线\")\n",
    "plt.xlabel(\"T/K\")\n",
    "plt.ylabel(\"$R_{NTC}/ \\Omega$\")\n",
    "#plt.annotate(\"$lnR_{NTC}$ = %.3f/T + %.3f\" %(popt2[1],np.log(popt2[0])), xy=(303,6))\n",
    "plt.savefig(\".\\Pics\\ NTC电阻温度特性曲线.png\")"
   ]
  },
  {
   "cell_type": "markdown",
   "metadata": {},
   "source": [
    "#### $lnR_{NTC}-\\frac{1}{T}$"
   ]
  },
  {
   "cell_type": "code",
   "execution_count": null,
   "metadata": {},
   "outputs": [],
   "source": [
    "plt.figure(dpi=150)\n",
    "plt.scatter(1/TNTC,lnrNTC,label=\"NTC电阻测量值\")\n",
    "plt.plot(1/TNTC,lnrNTC_fit,label=\"NTC电阻拟合曲线\")\n",
    "plt.title(\"$lnR_{NTC}-\\\\frac{1}{T}$曲线\")\n",
    "plt.xlabel(\"$T^{-1}/K^{-1}$\")\n",
    "plt.ylabel(\"$lnR_{NTC}$\")\n",
    "#plt.annotate(\"$lnR_{NTC}$ = %.3f/T + %.3f\" %(popt2[1],np.log(popt2[0])), xy=(303,6))\n",
    "plt.legend()\n",
    "plt.savefig(\".\\Pics\\lnRNTC-T.png\")\n",
    "print(-3381.21/TNTC**2)"
   ]
  },
  {
   "cell_type": "markdown",
   "metadata": {},
   "source": [
    "#### $R_{PTC} - T$"
   ]
  },
  {
   "cell_type": "code",
   "execution_count": null,
   "metadata": {},
   "outputs": [],
   "source": [
    "from matplotlib.pyplot import savefig\n",
    "\n",
    "\n",
    "plt.figure(dpi=150)\n",
    "plt.scatter(TPTC+29,rPTC,label=\"PTC电阻测量值\")\n",
    "plt.plot(TPTC+29,np.exp(lnrPTC_fit),label=\"PTC电阻拟合曲线\")\n",
    "plt.title(\"PTC电阻温度特性曲线\")\n",
    "plt.xlabel(\"T/K\")\n",
    "plt.ylabel(\"$R_{PTC}/ \\Omega$\")\n",
    "plt.annotate(\"$lnR_{PTC}$ = ln(%.3f) + %.4fT\" %(popt3[0],popt3[1]), xy=(300,7.25))\n",
    "plt.legend()\n",
    "plt.savefig(\".\\Pics\\PTC电阻温度特性曲线.png\")"
   ]
  },
  {
   "cell_type": "markdown",
   "metadata": {},
   "source": [
    "#### $ln(R_{PTC})-T$"
   ]
  },
  {
   "cell_type": "code",
   "execution_count": null,
   "metadata": {},
   "outputs": [],
   "source": [
    "plt.figure(dpi=150)\n",
    "plt.scatter(TPTC+29,lnrPTC,label=\"PTC电阻测量值\")\n",
    "plt.plot(TPTC+29,lnrPTC_fit,label=\"PTC电阻拟合曲线\")\n",
    "plt.title(\"$ln(R_{PTC})-T$曲线\")\n",
    "plt.xlabel(\"T/K\")\n",
    "plt.ylabel(\"$lnR_{PTC}$\")\n",
    "plt.annotate(\"$lnR_{PTC}$ = ln(%.3f) + %.4fT\" %(popt3[0],popt3[1]), xy=(300,7.25))\n",
    "plt.legend()\n",
    "plt.savefig(\".\\Pics\\lnRPTC-T.png\")"
   ]
  }
 ],
 "metadata": {
  "kernelspec": {
   "display_name": "Python 3.10.4 64-bit",
   "language": "python",
   "name": "python3"
  },
  "language_info": {
   "codemirror_mode": {
    "name": "ipython",
    "version": 3
   },
   "file_extension": ".py",
   "mimetype": "text/x-python",
   "name": "python",
   "nbconvert_exporter": "python",
   "pygments_lexer": "ipython3",
   "version": "3.10.4"
  },
  "orig_nbformat": 4,
  "vscode": {
   "interpreter": {
    "hash": "3ad933181bd8a04b432d3370b9dc3b0662ad032c4dfaa4e4f1596c548f763858"
   }
  }
 },
 "nbformat": 4,
 "nbformat_minor": 2
}
