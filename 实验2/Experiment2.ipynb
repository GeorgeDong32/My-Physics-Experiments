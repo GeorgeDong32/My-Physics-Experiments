{
 "cells": [
  {
   "cell_type": "markdown",
   "metadata": {},
   "source": [
    "# 实验2 电阻的温度特性\n",
    "> Copyright(c) 2022 GeorgeDong32. All Rights Reserved."
   ]
  },
  {
   "cell_type": "markdown",
   "metadata": {},
   "source": [
    "## 测量铜电阻、NTC、PTC的温度特性"
   ]
  },
  {
   "cell_type": "code",
   "execution_count": null,
   "metadata": {},
   "outputs": [],
   "source": [
    "from cProfile import label\n",
    "import scipy.constants as cst \n",
    "import pandas as pd\n",
    "import numpy as np\n",
    "import matplotlib.pyplot as plt\n",
    "from scipy.optimize import curve_fit\n",
    "# plt防止中文乱码\n",
    "plt.rcParams['font.sans-serif']=['SimHei']\n",
    "plt.rcParams['axes.unicode_minus'] = False"
   ]
  },
  {
   "cell_type": "code",
   "execution_count": null,
   "metadata": {},
   "outputs": [],
   "source": [
    "#拟合函数定义\n",
    "def RCu(t,a,R0):\n",
    "    return (1+a)*t*R0\n",
    "\n",
    "def lnRNTC(T,A,B):\n",
    "    return B/T + np.log(A)\n",
    "\n",
    "def lnRPTC(T,A,B):\n",
    "    return np.log(A) + B * T"
   ]
  },
  {
   "cell_type": "code",
   "execution_count": null,
   "metadata": {},
   "outputs": [],
   "source": [
    "#读取数据\n",
    "dCu = pd.read_csv(\"Cu.csv\")\n",
    "dNTC = pd.read_csv(\"NTC.csv\")\n",
    "dPTC = pd.read_csv(\"PTC.scv\")\n",
    "\n"
   ]
  }
 ],
 "metadata": {
  "kernelspec": {
   "display_name": "Python 3.10.8 64-bit (microsoft store)",
   "language": "python",
   "name": "python3"
  },
  "language_info": {
   "codemirror_mode": {
    "name": "ipython",
    "version": 3
   },
   "file_extension": ".py",
   "mimetype": "text/x-python",
   "name": "python",
   "nbconvert_exporter": "python",
   "pygments_lexer": "ipython3",
   "version": "3.10.8"
  },
  "orig_nbformat": 4,
  "vscode": {
   "interpreter": {
    "hash": "75bee36a11b221475e69ed74a82cd4df1cf0e6a37d829951c2bd56ad35da3146"
   }
  }
 },
 "nbformat": 4,
 "nbformat_minor": 2
}
