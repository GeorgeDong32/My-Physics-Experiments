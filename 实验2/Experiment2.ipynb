{
 "cells": [
  {
   "cell_type": "markdown",
   "metadata": {},
   "source": [
    "# 实验2 电阻的温度特性\n",
    "> Copyright(c) 2022 GeorgeDong32. All Rights Reserved."
   ]
  },
  {
   "cell_type": "markdown",
   "metadata": {},
   "source": [
    "## 测量铜电阻、NTC、PTC的温度特性"
   ]
  },
  {
   "cell_type": "code",
   "execution_count": null,
   "metadata": {},
   "outputs": [],
   "source": [
    "from cProfile import label\n",
    "import scipy.constants as cst \n",
    "import pandas as pd\n",
    "import numpy as np\n",
    "import matplotlib.pyplot as plt\n",
    "from scipy.optimize import curve_fit\n",
    "# plt防止中文乱码\n",
    "plt.rcParams['font.sans-serif']=['SimHei']\n",
    "plt.rcParams['axes.unicode_minus'] = False"
   ]
  },
  {
   "cell_type": "code",
   "execution_count": null,
   "metadata": {},
   "outputs": [],
   "source": [
    "#拟合函数定义\n",
    "def RCu(t,a,R0):\n",
    "    return (1+a)*t*R0\n",
    "\n",
    "def lnRNTC(T,A,B):\n",
    "    return B/T + np.log(A)\n",
    "\n",
    "def lnRPTC(T,A,B):\n",
    "    return np.log(A) + B * T"
   ]
  },
  {
   "cell_type": "code",
   "execution_count": null,
   "metadata": {},
   "outputs": [],
   "source": [
    "#读取数据\n",
    "dCu = pd.read_csv(\"Cu.csv\")\n",
    "dNTC = pd.read_csv(\"NTC.csv\")\n",
    "dPTC = pd.read_csv(\"PTC.scv\")\n",
    "\n",
    "tCu = dCu.iloc[:,0]\n",
    "rCu = (dCu.iloc[:,1] + dCu.iloc[:,2]) / 2\n",
    "\n",
    "TNTC = dNTC.iloc[:,0] + 273\n",
    "rNTC = (dNTC.iloc[:,1] + dNTC.iloc[:,2]) / 2\n",
    "lnrNTC = np.log(rNTC)\n",
    "\n",
    "TPTC = dPTC.iloc[:,0]\n",
    "rPTC = (dPTC.iloc[:,1] + dPTC.iloc[:,2]) / 2\n",
    "lnrPTC = np.log(rPTC)\n",
    "\n",
    "popt1,pcov1=curve_fit(RCu,tCu,rCu)\n",
    "rCu_fit = RCu(tCu,popt1[0],popt1[1])\n",
    "\n",
    "popt2,pcov2=curve_fit(lnRNTC,TNTC,lnrNTC)\n",
    "lnrNTC_fit = lnRNTC(TNTC,popt2[0],popt2[1])\n",
    "\n",
    "popt3,pcov3=curve_fit(lnRPTC,TPTC,lnrPTC)\n",
    "lnrPTC_fit = lnRPTC(TPTC,popt3[0],popt3[1])"
   ]
  },
  {
   "cell_type": "markdown",
   "metadata": {},
   "source": [
    "### 铜电阻图像"
   ]
  },
  {
   "cell_type": "code",
   "execution_count": null,
   "metadata": {},
   "outputs": [],
   "source": [
    "plt.figure(dpi=150)\n",
    "plt.scatter(tCu,rCu,label=\"铜电阻测量值\")\n",
    "plt.plot(tCu,rCu_fit,label=\"铜电阻拟合曲线\")\n",
    "plt.title(\"铜电阻温度特性曲线\")\n",
    "plt.xlabel(\"\\bft/°C\")\n",
    "plt.ylabel(\"$R_{Cu}/\\omega$\")\n",
    "plt.annotate(\"$R_{Cu}$ = (1 + %.3f)t * %.3f\" %(popt1[0],popt1[1]), xy=(30,55))\n",
    "plt.legend()"
   ]
  },
  {
   "cell_type": "markdown",
   "metadata": {},
   "source": [
    "### NTC电阻图像"
   ]
  },
  {
   "cell_type": "code",
   "execution_count": null,
   "metadata": {},
   "outputs": [],
   "source": [
    "plt.figure(dpi=150)\n",
    "plt.scatter(TNTC,lnrNTC,label=\"NTC电阻测量值\")\n",
    "plt.plot(TNTC,lnrNTC_fit,label=\"NTC电阻拟合曲线\")\n",
    "plt.title(\"NTC电阻温度特性曲线\")\n",
    "plt.xlabel(\"\\bfT/K\")\n",
    "plt.ylabel(\"$lnR_{NTC}/ln\\omega$\")\n",
    "plt.annotate(\"$lnR_{NTC}$ = (1 + %.3f)t * %.3f\" %(popt2[0],popt2[1]), xy=(303,8))\n",
    "plt.legend()"
   ]
  },
  {
   "cell_type": "markdown",
   "metadata": {},
   "source": [
    "### PTC电阻图像"
   ]
  },
  {
   "cell_type": "code",
   "execution_count": null,
   "metadata": {},
   "outputs": [],
   "source": [
    "plt.figure(dpi=150)\n",
    "plt.scatter(TPTC,lnrPTC,label=\"PTC电阻测量值\")\n",
    "plt.plot(TPTC,lnrPTC_fit,label=\"PTC电阻拟合曲线\")\n",
    "plt.title(\"PTC电阻温度特性曲线\")\n",
    "plt.xlabel(\"\\bfT/K\")\n",
    "plt.ylabel(\"$lnR_{PTC}/ln\\omega$\")\n",
    "plt.annotate(\"$lnR_{PTC}$ = (1 + %.3f)t * %.3f\" %(popt3[0],popt3[1]), xy=(303,5.8))\n",
    "plt.legend()"
   ]
  }
 ],
 "metadata": {
  "kernelspec": {
   "display_name": "Python 3.10.8 64-bit (microsoft store)",
   "language": "python",
   "name": "python3"
  },
  "language_info": {
   "codemirror_mode": {
    "name": "ipython",
    "version": 3
   },
   "file_extension": ".py",
   "mimetype": "text/x-python",
   "name": "python",
   "nbconvert_exporter": "python",
   "pygments_lexer": "ipython3",
   "version": "3.10.8"
  },
  "orig_nbformat": 4,
  "vscode": {
   "interpreter": {
    "hash": "75bee36a11b221475e69ed74a82cd4df1cf0e6a37d829951c2bd56ad35da3146"
   }
  }
 },
 "nbformat": 4,
 "nbformat_minor": 2
}
