{
 "cells": [
  {
   "attachments": {},
   "cell_type": "markdown",
   "metadata": {},
   "source": [
    "# 实验5 霍尔效应测量磁场"
   ]
  },
  {
   "cell_type": "code",
   "execution_count": null,
   "metadata": {},
   "outputs": [],
   "source": [
    "# 大学物理实验5 霍尔效应测量磁场\n",
    "# Copyright(c) 2022 GeorgeDong32. All Rights Reserved.\n",
    "\n",
    "from cProfile import label\n",
    "import scipy.constants as cst \n",
    "import pandas as pd\n",
    "import numpy as np\n",
    "import matplotlib.pyplot as plt\n",
    "from scipy.optimize import curve_fit \n",
    "# plt防止中文乱码\n",
    "plt.rcParams['font.sans-serif']=['SimHei']\n",
    "plt.rcParams['axes.unicode_minus'] = False"
   ]
  },
  {
   "attachments": {},
   "cell_type": "markdown",
   "metadata": {},
   "source": [
    "## 测绘|$V_H$| — $I_S$ 曲线"
   ]
  },
  {
   "cell_type": "code",
   "execution_count": null,
   "metadata": {},
   "outputs": [],
   "source": [
    "data1 = pd.read_csv('VHIS.csv')\n",
    "Is = data1['Is']\n",
    "V11 = data1['V1']\n",
    "V12 = data1['V2']\n",
    "V13 = data1['V3']\n",
    "V14 = data1['V4']\n",
    "VH1 = (V11 - V12 + V13 - V14) / 4\n",
    "\n",
    "def fun1(Is, a, b):\n",
    "    return a * Is + b\n",
    "\n",
    "popt1, pcov1 = curve_fit(fun1, Is, VH1)\n",
    "\n",
    "plt.figure(dpi=200)\n",
    "plt.plot(Is, VH1, 'o', label='实验数据')\n",
    "plt.plot(Is, fun1(Is, *popt1), label='拟合曲线')\n",
    "plt.annotate('拟合曲线：$V_H$ = %.2f$I_s$ + %.2f' % (popt1[0], popt1[1]), xy=(0.15,0.6), xycoords='axes fraction', fontsize=10)\n",
    "plt.xlabel('$I_S$(mA)')\n",
    "plt.ylabel('$V_H$(mV)')\n",
    "plt.title('|$V_H$| — $I_s$曲线')\n",
    "plt.legend()"
   ]
  },
  {
   "attachments": {},
   "cell_type": "markdown",
   "metadata": {},
   "source": [
    "## 测绘|$V_H$| — $I_M$ 曲线"
   ]
  },
  {
   "cell_type": "code",
   "execution_count": null,
   "metadata": {},
   "outputs": [],
   "source": [
    "data2 = pd.read_csv('VHIM.csv')\n",
    "IM = data2['IM']\n",
    "V21 = data2['V1']\n",
    "V22 = data2['V2']\n",
    "V23 = data2['V3']\n",
    "V24 = data2['V4']\n",
    "VH2 = (V21 - V22 + V23 - V24) / 4\n",
    "\n",
    "def fun2(IM, a, b):\n",
    "    return a * IM + b\n",
    "\n",
    "popt2, pcov2 = curve_fit(fun2, IM, VH2)\n",
    "\n",
    "plt.figure(dpi=200)\n",
    "plt.plot(IM, VH2, 'o', label='实验数据')\n",
    "plt.plot(IM, fun2(IM, *popt2), label='拟合曲线')\n",
    "plt.annotate('拟合曲线：$V_H$ = %.2f$I_M$ + %.2f' % (popt2[0], popt2[1]), xy=(0.15,0.6), xycoords='axes fraction', fontsize=10)\n",
    "plt.xlabel('$I_M$(mA)')\n",
    "plt.ylabel('$V_H$(mV)')\n",
    "plt.title('|$V_H$| — $I_M$曲线')\n",
    "plt.legend()"
   ]
  },
  {
   "attachments": {},
   "cell_type": "markdown",
   "metadata": {},
   "source": [
    "## 测绘螺线管轴线上的磁感应强度分布"
   ]
  },
  {
   "cell_type": "code",
   "execution_count": null,
   "metadata": {},
   "outputs": [],
   "source": [
    "data3 = pd.read_csv('螺线管轴线磁场分布.csv')\n",
    "x = data3['x']\n",
    "V31 = data3['V1']\n",
    "V32 = data3['V2']\n",
    "V33 = data3['V3']\n",
    "V34 = data3['V4']\n",
    "VH3 = (V31 - V32 + V33 - V34) / 4\n",
    "def func(VH, KH, IS):\n",
    "    return VH / (KH * IS)\n",
    "\n",
    "B = func(VH3, 169, 3)*10e3\n",
    "\n",
    "plt.figure(dpi=200)\n",
    "plt.plot(x, B, 'o', label='实验数据')\n",
    "plt.xlabel('x(cm)')\n",
    "plt.ylabel('B(mT)')\n",
    "plt.title('螺线管轴线磁场分布')\n",
    "plt.legend()"
   ]
  },
  {
   "attachments": {},
   "cell_type": "markdown",
   "metadata": {},
   "source": [
    "## 综合数据分析"
   ]
  },
  {
   "cell_type": "code",
   "execution_count": null,
   "metadata": {},
   "outputs": [],
   "source": [
    "KH = 184;\n",
    "IS = 3;\n",
    "print(B)"
   ]
  }
 ],
 "metadata": {
  "kernelspec": {
   "display_name": "Python 3",
   "language": "python",
   "name": "python3"
  },
  "language_info": {
   "codemirror_mode": {
    "name": "ipython",
    "version": 3
   },
   "file_extension": ".py",
   "mimetype": "text/x-python",
   "name": "python",
   "nbconvert_exporter": "python",
   "pygments_lexer": "ipython3",
   "version": "3.10.8"
  },
  "orig_nbformat": 4
 },
 "nbformat": 4,
 "nbformat_minor": 2
}
