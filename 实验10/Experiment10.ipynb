{
 "cells": [
  {
   "cell_type": "markdown",
   "metadata": {},
   "source": [
    "# 实验10 光电效应测量普朗克常数\n",
    "> Copyright(c) 2022 GeorgeDong32. All Rights Reserved."
   ]
  },
  {
   "cell_type": "code",
   "execution_count": 8,
   "metadata": {},
   "outputs": [],
   "source": [
    "from cProfile import label\n",
    "import scipy.constants as cst \n",
    "import pandas as pd\n",
    "import numpy as np\n",
    "import matplotlib.pyplot as plt\n",
    "from scipy.optimize import curve_fit\n",
    "# plt防止中文乱码\n",
    "plt.rcParams['font.sans-serif']=['SimHei']\n",
    "plt.rcParams['axes.unicode_minus'] = False"
   ]
  },
  {
   "cell_type": "markdown",
   "metadata": {},
   "source": [
    "## 手动测量普朗克常数"
   ]
  },
  {
   "cell_type": "code",
   "execution_count": 9,
   "metadata": {},
   "outputs": [
    {
     "name": "stdout",
     "output_type": "stream",
     "text": [
      "测得普朗克常数为 -6.519521513143501e-34\n",
      "6.62607e-34\n",
      "相对误差为： -1.9839198066340231\n"
     ]
    }
   ],
   "source": [
    "def fit_fun1(v,h,b):#拟合函数，返回截止电压\n",
    "    ee = 1.6022 * 10**(-19)\n",
    "    return (h*v + b)/ee\n",
    "\n",
    "data1 = pd.read_csv(\"data1.csv\")\n",
    "l = data1.iloc[:,0]\n",
    "u0 = data1.iloc[:,1]\n",
    "c = 3*10**8\n",
    "v = (c / l) * 10**9\n",
    "popt1,pcov1=curve_fit(fit_fun1,v,u0)\n",
    "print(\"测得普朗克常数为\",popt1[0])\n",
    "h0 = 6.62607*10**(-34)\n",
    "delta = (popt1[0] - h0) / h0\n",
    "print(h0)\n",
    "print(\"相对误差为：\",delta)\n",
    "#print(v)"
   ]
  },
  {
   "cell_type": "markdown",
   "metadata": {},
   "source": [
    "## 不同谱线在同一光阑，同一距离下的伏安饱和特性曲线"
   ]
  },
  {
   "cell_type": "code",
   "execution_count": null,
   "metadata": {},
   "outputs": [],
   "source": []
  },
  {
   "cell_type": "markdown",
   "metadata": {},
   "source": [
    "## 同一谱线在同一光阑，不同距离下的伏安饱和特性曲线"
   ]
  },
  {
   "cell_type": "code",
   "execution_count": null,
   "metadata": {},
   "outputs": [],
   "source": []
  },
  {
   "cell_type": "markdown",
   "metadata": {},
   "source": [
    "## 同一谱线在不同光阑，同一距离下的伏安饱和特性曲线"
   ]
  },
  {
   "cell_type": "code",
   "execution_count": null,
   "metadata": {},
   "outputs": [],
   "source": []
  },
  {
   "cell_type": "markdown",
   "metadata": {},
   "source": [
    "## 同一谱线在不同光阑，同一距离下的光电管的饱和电流值"
   ]
  },
  {
   "cell_type": "code",
   "execution_count": null,
   "metadata": {},
   "outputs": [],
   "source": []
  },
  {
   "cell_type": "markdown",
   "metadata": {},
   "source": [
    "## 同一谱线在同一光阑下光电管电流与距离之间的关系"
   ]
  }
 ],
 "metadata": {
  "kernelspec": {
   "display_name": "Python 3.10.8 64-bit",
   "language": "python",
   "name": "python3"
  },
  "language_info": {
   "codemirror_mode": {
    "name": "ipython",
    "version": 3
   },
   "file_extension": ".py",
   "mimetype": "text/x-python",
   "name": "python",
   "nbconvert_exporter": "python",
   "pygments_lexer": "ipython3",
   "version": "3.10.8"
  },
  "orig_nbformat": 4,
  "vscode": {
   "interpreter": {
    "hash": "ba0ca65d7a538add83541ac4ea5b313fa01f502a19a71cc792ebdbfd4f9944d1"
   }
  }
 },
 "nbformat": 4,
 "nbformat_minor": 2
}
