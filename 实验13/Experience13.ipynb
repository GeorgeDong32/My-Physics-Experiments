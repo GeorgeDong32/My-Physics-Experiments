{
 "cells": [
  {
   "attachments": {},
   "cell_type": "markdown",
   "metadata": {},
   "source": [
    "# 实验13 核磁共振效应"
   ]
  },
  {
   "cell_type": "code",
   "execution_count": null,
   "metadata": {},
   "outputs": [],
   "source": [
    "# 大学物理实验13 核磁共振效应\n",
    "# Copyright(c) 2022 GeorgeDong32. All Rights Reserved.\n",
    "\n",
    "from cProfile import label\n",
    "import scipy.constants as cst \n",
    "import pandas as pd\n",
    "import numpy as np\n",
    "import matplotlib.pyplot as plt\n",
    "from scipy.optimize import curve_fit \n",
    "# plt防止中文乱码\n",
    "plt.rcParams['font.sans-serif']=['SimHei']\n",
    "plt.rcParams['axes.unicode_minus'] = False"
   ]
  },
  {
   "attachments": {},
   "cell_type": "markdown",
   "metadata": {},
   "source": [
    "## 磁感应强度B与电源电流I的关系"
   ]
  },
  {
   "cell_type": "code",
   "execution_count": null,
   "metadata": {},
   "outputs": [],
   "source": [
    "BAdata = pd.read_csv('data.B-A.csv')\n",
    "B = BAdata['B']\n",
    "I = BAdata['I']\n",
    "\n",
    "def funIB(I, k1, b1):\n",
    "    return k1 * I + b1\n",
    "\n",
    "popt1, pcov1 = curve_fit(funIB, I, B)\n",
    "plt.plot(I, B, 'o', label='实验数据')\n",
    "plt.plot(I, funIB(I, *popt1), label='拟合曲线')\n",
    "plt.title('磁场与电流的关系')\n",
    "plt.xlabel('电流I(mA)')\n",
    "plt.ylabel('磁场B(mT)')\n",
    "plt.legend()"
   ]
  },
  {
   "attachments": {},
   "cell_type": "markdown",
   "metadata": {},
   "source": [
    "## 水样品数据"
   ]
  },
  {
   "cell_type": "code",
   "execution_count": null,
   "metadata": {},
   "outputs": [],
   "source": [
    "wdata = pd.read_csv('data.H2O.csv')\n",
    "vw = wdata['v']\n",
    "Iw = wdata['I']\n",
    "\n",
    "def funIv(I, k2, b2):\n",
    "    return k2 * I + b2\n",
    "\n",
    "def funBv(B, k3, b3):\n",
    "    return k3 * B + b3\n",
    "\n",
    "popt2, pcov2 = curve_fit(funIv, Iw, vw)\n",
    "plt.figure()\n",
    "plt.plot(Iw, vw, 'o', label='实验数据')\n",
    "plt.plot(Iw, funIv(Iw, *popt2), label='拟合曲线')\n",
    "plt.title('水的核磁共振频率与电流的关系')\n",
    "plt.xlabel('电流（mA）')\n",
    "plt.ylabel('核磁共振频率（MHz）')\n",
    "plt.legend()\n",
    "\n",
    "Bw = funIB(Iw, popt1[0], popt1[1])\n",
    "popt3, pcov3 = curve_fit(funBv, Bw, vw)\n",
    "plt.figure()\n",
    "plt.plot(Bw, vw, 'o', label='实验数据')\n",
    "plt.plot(Bw, funBv(Bw, *popt3), 'o', label='拟合数据')\n",
    "plt.title('水的核磁共振频率与磁场强度的关系')\n",
    "plt.xlabel('磁场强度（mT）')\n",
    "plt.ylabel('核磁共振频率（MHz）')\n",
    "plt.legend()"
   ]
  },
  {
   "attachments": {},
   "cell_type": "markdown",
   "metadata": {},
   "source": [
    "### 特定数据计算"
   ]
  },
  {
   "cell_type": "code",
   "execution_count": null,
   "metadata": {},
   "outputs": [],
   "source": [
    "gws = (cst.h * vw[0]) / (5.051e-27 * 267.6) * 1e9\n",
    "delta1 = (gws - 5.5857) / 5.5857 \n",
    "print('特殊值计算出的g_H: %.5f' %gws)\n",
    "print('特殊值计算出的g_H的误差: {:.4%}'.format(delta1))"
   ]
  },
  {
   "attachments": {},
   "cell_type": "markdown",
   "metadata": {},
   "source": [
    "## 聚四氟乙烯样品数据"
   ]
  },
  {
   "cell_type": "code",
   "execution_count": null,
   "metadata": {},
   "outputs": [],
   "source": [
    "fdata = pd.read_csv('data.C2F4.csv')\n",
    "vf = fdata['v']\n",
    "If = fdata['I']\n",
    "\n",
    "popt4, pcov4 = curve_fit(funIv, If, vf)\n",
    "plt.figure()\n",
    "plt.plot(If, vf, 'o', label='实验数据')\n",
    "plt.plot(If, funIv(If, *popt4), label='拟合曲线')\n",
    "plt.title('聚四氟乙烯的核磁共振频率与电流的关系')\n",
    "plt.xlabel('电流（mA）')\n",
    "plt.ylabel('核磁共振频率（MHz）')\n",
    "plt.legend()\n",
    "\n",
    "Bf = funIB(If, *popt1)\n",
    "popt5, pcov5 = curve_fit(funBv, Bf, vf)\n",
    "plt.figure()\n",
    "plt.plot(Bf, vf, 'o', label='实验数据')\n",
    "plt.plot(Bf, funBv(Bf, *popt5), 'o', label='拟合数据')\n",
    "plt.title('聚四氟乙烯的核磁共振频率与磁场强度的关系')\n",
    "plt.xlabel('磁场强度（mT）')\n",
    "plt.ylabel('核磁共振频率（MHz）')\n",
    "plt.legend()"
   ]
  },
  {
   "attachments": {},
   "cell_type": "markdown",
   "metadata": {},
   "source": [
    "### 特定数据计算"
   ]
  },
  {
   "cell_type": "code",
   "execution_count": null,
   "metadata": {},
   "outputs": [],
   "source": [
    "gfs = (cst.h * vf[2]) / (5.051e-27 * 295.6) * 1e9\n",
    "delta2 = (gfs - 5.2567) / 5.2567 \n",
    "print('特殊值计算出的g_H: %.5f' %gfs)\n",
    "print('特殊值计算出的g_H的误差: {:.4%}'.format(delta2))"
   ]
  }
 ],
 "metadata": {
  "kernelspec": {
   "display_name": "Python 3",
   "language": "python",
   "name": "python3"
  },
  "language_info": {
   "codemirror_mode": {
    "name": "ipython",
    "version": 3
   },
   "file_extension": ".py",
   "mimetype": "text/x-python",
   "name": "python",
   "nbconvert_exporter": "python",
   "pygments_lexer": "ipython3",
   "version": "3.10.8"
  },
  "orig_nbformat": 4
 },
 "nbformat": 4,
 "nbformat_minor": 2
}
